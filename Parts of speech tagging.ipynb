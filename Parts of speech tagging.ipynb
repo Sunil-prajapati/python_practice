{
 "cells": [
  {
   "cell_type": "code",
   "execution_count": 1,
   "id": "3da76b39-e8f6-407a-984f-890e8a899199",
   "metadata": {},
   "outputs": [],
   "source": [
    "paragraph = \"\"\" Dreams transform into thoughts, and thoughts result in action. Great achievements begin with a single dream. I always tell young minds to dream big, to aim high, and to work hard towards their passion with confidence and determination. When each one of us ignites our inner potential, we have the power to shape society and the nation. Success is not a one-time event but a journey that involves dedication, continuous effort, learning from failures, and a positive attitude.\n",
    "\n",
    "My vision for India is a nation that stands proud, united, and strong, driven by honest citizens and empowered youth. Let us not wait for others to bring change; let us be the change. Each of you has unique strengths—use them to serve the country and humanity. Value integrity, respect every individual, and uphold harmony among all religions and communities. Let knowledge, courage, and compassion be your guiding lights.\n",
    "\n",
    "Remember: ‘If you want to shine like a sun, first burn like a sun.’ The future belongs to those who believe in the beauty of their dreams and work tirelessly to make them come true. Let us promise to make our nation better and brighter every single day.\"\"\""
   ]
  },
  {
   "cell_type": "code",
   "execution_count": 5,
   "id": "0cf56953-0033-4583-b487-f7ec7dc8f728",
   "metadata": {},
   "outputs": [],
   "source": [
    "import nltk\n",
    "from nltk.corpus import stopwords"
   ]
  },
  {
   "cell_type": "code",
   "execution_count": 6,
   "id": "67543685-f5e4-41d6-bd0b-d2201351a05d",
   "metadata": {},
   "outputs": [],
   "source": [
    "sentences = nltk.sent_tokenize(paragraph)"
   ]
  },
  {
   "cell_type": "code",
   "execution_count": 4,
   "id": "a663c25d-a942-4740-a16f-8e37ffc49d10",
   "metadata": {},
   "outputs": [
    {
     "data": {
      "text/plain": [
       "[' Dreams transform into thoughts, and thoughts result in action.',\n",
       " 'Great achievements begin with a single dream.',\n",
       " 'I always tell young minds to dream big, to aim high, and to work hard towards their passion with confidence and determination.',\n",
       " 'When each one of us ignites our inner potential, we have the power to shape society and the nation.',\n",
       " 'Success is not a one-time event but a journey that involves dedication, continuous effort, learning from failures, and a positive attitude.',\n",
       " 'My vision for India is a nation that stands proud, united, and strong, driven by honest citizens and empowered youth.',\n",
       " 'Let us not wait for others to bring change; let us be the change.',\n",
       " 'Each of you has unique strengths—use them to serve the country and humanity.',\n",
       " 'Value integrity, respect every individual, and uphold harmony among all religions and communities.',\n",
       " 'Let knowledge, courage, and compassion be your guiding lights.',\n",
       " 'Remember: ‘If you want to shine like a sun, first burn like a sun.’ The future belongs to those who believe in the beauty of their dreams and work tirelessly to make them come true.',\n",
       " 'Let us promise to make our nation better and brighter every single day.']"
      ]
     },
     "execution_count": 4,
     "metadata": {},
     "output_type": "execute_result"
    }
   ],
   "source": [
    "sentences"
   ]
  },
  {
   "cell_type": "markdown",
   "id": "fdd13ec4-708a-4eff-8c95-ccebf6f6e1c5",
   "metadata": {},
   "source": [
    "### we will find the pos tag "
   ]
  },
  {
   "cell_type": "code",
   "execution_count": 10,
   "id": "56516083-62b0-472f-95df-b16fb9c0f887",
   "metadata": {},
   "outputs": [
    {
     "name": "stdout",
     "output_type": "stream",
     "text": [
      "[('Dreams', 'NNP'), ('transform', 'NN'), ('thoughts', 'NNS'), (',', ','), ('thoughts', 'NNS'), ('result', 'VBP'), ('action', 'NN'), ('.', '.')]\n",
      "[('Great', 'JJ'), ('achievements', 'NNS'), ('begin', 'VBP'), ('single', 'JJ'), ('dream', 'NN'), ('.', '.')]\n",
      "[('I', 'PRP'), ('always', 'RB'), ('tell', 'VBP'), ('young', 'JJ'), ('minds', 'NNS'), ('dream', 'NN'), ('big', 'JJ'), (',', ','), ('aim', 'JJ'), ('high', 'JJ'), (',', ','), ('work', 'VB'), ('hard', 'JJ'), ('towards', 'NNS'), ('passion', 'NN'), ('confidence', 'NN'), ('determination', 'NN'), ('.', '.')]\n",
      "[('When', 'WRB'), ('one', 'CD'), ('us', 'PRP'), ('ignites', 'VBZ'), ('inner', 'JJ'), ('potential', 'NN'), (',', ','), ('power', 'NN'), ('shape', 'NN'), ('society', 'NN'), ('nation', 'NN'), ('.', '.')]\n",
      "[('Success', 'JJ'), ('one-time', 'JJ'), ('event', 'NN'), ('journey', 'NN'), ('involves', 'VBZ'), ('dedication', 'NN'), (',', ','), ('continuous', 'JJ'), ('effort', 'NN'), (',', ','), ('learning', 'VBG'), ('failures', 'NNS'), (',', ','), ('positive', 'JJ'), ('attitude', 'NN'), ('.', '.')]\n",
      "[('My', 'PRP$'), ('vision', 'NN'), ('India', 'NNP'), ('nation', 'NN'), ('stands', 'VBZ'), ('proud', 'JJ'), (',', ','), ('united', 'JJ'), (',', ','), ('strong', 'JJ'), (',', ','), ('driven', 'JJ'), ('honest', 'JJS'), ('citizens', 'NNS'), ('empowered', 'VBD'), ('youth', 'NN'), ('.', '.')]\n",
      "[('Let', 'VB'), ('us', 'PRP'), ('wait', 'VB'), ('others', 'NNS'), ('bring', 'VBP'), ('change', 'NN'), (';', ':'), ('let', 'VB'), ('us', 'PRP'), ('change', 'VB'), ('.', '.')]\n",
      "[('Each', 'DT'), ('unique', 'NN'), ('strengths—use', 'RB'), ('serve', 'JJ'), ('country', 'NN'), ('humanity', 'NN'), ('.', '.')]\n",
      "[('Value', 'NNP'), ('integrity', 'NN'), (',', ','), ('respect', 'NN'), ('every', 'DT'), ('individual', 'NN'), (',', ','), ('uphold', 'JJ'), ('harmony', 'NN'), ('among', 'IN'), ('religions', 'NNS'), ('communities', 'NNS'), ('.', '.')]\n",
      "[('Let', 'VB'), ('knowledge', 'NN'), (',', ','), ('courage', 'NN'), (',', ','), ('compassion', 'NN'), ('guiding', 'VBG'), ('lights', 'NNS'), ('.', '.')]\n",
      "[('Remember', 'NNP'), (':', ':'), ('‘', 'NN'), ('If', 'IN'), ('want', 'JJ'), ('shine', 'NN'), ('like', 'IN'), ('sun', 'NN'), (',', ','), ('first', 'RB'), ('burn', 'VBP'), ('like', 'IN'), ('sun.', 'NN'), ('’', 'VBP'), ('The', 'DT'), ('future', 'JJ'), ('belongs', 'NNS'), ('believe', 'VBP'), ('beauty', 'NN'), ('dreams', 'NNS'), ('work', 'VBP'), ('tirelessly', 'RB'), ('make', 'VB'), ('come', 'JJ'), ('true', 'JJ'), ('.', '.')]\n",
      "[('Let', 'VB'), ('us', 'PRP'), ('promise', 'VB'), ('make', 'VBP'), ('nation', 'NN'), ('better', 'RBR'), ('brighter', 'NN'), ('every', 'DT'), ('single', 'JJ'), ('day', 'NN'), ('.', '.')]\n"
     ]
    }
   ],
   "source": [
    "for i in range(len(sentences)):\n",
    "    words = nltk.word_tokenize(sentences[i])\n",
    "    words = [word for word in words if word not in set(stopwords.words('english'))]\n",
    "    pos_tag = nltk.pos_tag(words)\n",
    "    print(pos_tag)"
   ]
  },
  {
   "cell_type": "code",
   "execution_count": 12,
   "id": "bd823e20-9718-4234-b6af-04bddb1efed2",
   "metadata": {},
   "outputs": [
    {
     "name": "stdout",
     "output_type": "stream",
     "text": [
      "[('Taj', 'NNP'), ('Mahal', 'NNP'), ('is', 'VBZ'), ('a', 'DT'), ('beautiful', 'JJ'), ('Monument', 'NN')]\n"
     ]
    }
   ],
   "source": [
    "print(nltk.pos_tag(\"Taj Mahal is a beautiful Monument\".split()))"
   ]
  },
  {
   "cell_type": "code",
   "execution_count": null,
   "id": "e981aedc-0c81-4af6-9736-8673cac6b7ed",
   "metadata": {},
   "outputs": [],
   "source": []
  },
  {
   "cell_type": "code",
   "execution_count": null,
   "id": "0a7e6d75-8054-4e13-bb00-aecd58a6907d",
   "metadata": {},
   "outputs": [],
   "source": []
  }
 ],
 "metadata": {
  "kernelspec": {
   "display_name": "Python 3 (ipykernel)",
   "language": "python",
   "name": "python3"
  },
  "language_info": {
   "codemirror_mode": {
    "name": "ipython",
    "version": 3
   },
   "file_extension": ".py",
   "mimetype": "text/x-python",
   "name": "python",
   "nbconvert_exporter": "python",
   "pygments_lexer": "ipython3",
   "version": "3.13.3"
  }
 },
 "nbformat": 4,
 "nbformat_minor": 5
}
