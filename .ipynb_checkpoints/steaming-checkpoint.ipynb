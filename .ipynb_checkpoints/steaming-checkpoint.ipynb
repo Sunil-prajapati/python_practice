{
 "cells": [
  {
   "cell_type": "code",
   "execution_count": 1,
   "id": "e1c826dd-e6ae-4f8a-b178-a84831aa0e78",
   "metadata": {},
   "outputs": [],
   "source": [
    "words = [\"eating\", \"eats\",\"eaten\",\"writing\",\"writes\",\"running\",\"runs\",\"ran\",\"comes\",\"came\",\"history\"]"
   ]
  },
  {
   "cell_type": "markdown",
   "id": "de85dd26-e81b-4dc6-845d-5f80845f8aa1",
   "metadata": {},
   "source": [
    "### PorterStemmer "
   ]
  },
  {
   "cell_type": "code",
   "execution_count": 2,
   "id": "c688e71c-b011-4234-8b5e-8d8771d4490f",
   "metadata": {},
   "outputs": [],
   "source": [
    "from nltk.stem import PorterStemmer"
   ]
  },
  {
   "cell_type": "code",
   "execution_count": 6,
   "id": "4bc51e04-810b-490f-b170-f8cd16e190f4",
   "metadata": {},
   "outputs": [],
   "source": [
    "stemming=PorterStemmer()"
   ]
  },
  {
   "cell_type": "code",
   "execution_count": 7,
   "id": "0f7c2477-a231-470a-b276-c43663333539",
   "metadata": {},
   "outputs": [
    {
     "name": "stdout",
     "output_type": "stream",
     "text": [
      "eating---->eat\n",
      "eats---->eat\n",
      "eaten---->eaten\n",
      "writing---->write\n",
      "writes---->write\n",
      "running---->run\n",
      "runs---->run\n",
      "ran---->ran\n",
      "comes---->come\n",
      "came---->came\n"
     ]
    }
   ],
   "source": [
    "for word in words:\n",
    "    print(word+\"---->\"+ stemming.stem(word))"
   ]
  },
  {
   "cell_type": "code",
   "execution_count": null,
   "id": "95e5ec15-c2d6-4bd5-809c-5c4d46c34a16",
   "metadata": {},
   "outputs": [],
   "source": []
  },
  {
   "cell_type": "code",
   "execution_count": null,
   "id": "c49278d2-417c-4857-b415-366c43cb5f99",
   "metadata": {},
   "outputs": [],
   "source": []
  }
 ],
 "metadata": {
  "kernelspec": {
   "display_name": "Python 3 (ipykernel)",
   "language": "python",
   "name": "python3"
  },
  "language_info": {
   "codemirror_mode": {
    "name": "ipython",
    "version": 3
   },
   "file_extension": ".py",
   "mimetype": "text/x-python",
   "name": "python",
   "nbconvert_exporter": "python",
   "pygments_lexer": "ipython3",
   "version": "3.13.3"
  }
 },
 "nbformat": 4,
 "nbformat_minor": 5
}
