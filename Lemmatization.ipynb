{
 "cells": [
  {
   "cell_type": "code",
   "execution_count": 6,
   "id": "29e6ae11-a183-4c89-9a3c-11739d557333",
   "metadata": {},
   "outputs": [],
   "source": [
    "words = [\"eating\", \"eats\",\"eaten\",\"writing\",\"writes\",\"running\",\"runs\",\"ran\",\"comes\",\"came\",\"history\"]"
   ]
  },
  {
   "cell_type": "code",
   "execution_count": 19,
   "id": "ff9d5b3f-56f8-47a8-b108-f566eb342678",
   "metadata": {},
   "outputs": [
    {
     "name": "stderr",
     "output_type": "stream",
     "text": [
      "[nltk_data] Downloading package wordnet to\n",
      "[nltk_data]     C:\\Users\\praja\\AppData\\Roaming\\nltk_data...\n"
     ]
    },
    {
     "data": {
      "text/plain": [
       "True"
      ]
     },
     "execution_count": 19,
     "metadata": {},
     "output_type": "execute_result"
    }
   ],
   "source": [
    "import nltk\n",
    "nltk.download('wordnet')"
   ]
  },
  {
   "cell_type": "markdown",
   "id": "31dcbe8d-c112-4fcc-8edd-425ddc09da5b",
   "metadata": {},
   "source": [
    "### QNA, CHATBOT, TEXT SUMMARIZATION (USE CASE)"
   ]
  },
  {
   "cell_type": "code",
   "execution_count": 29,
   "id": "80fc1af2-abd9-4fb3-acfe-21c3062591c8",
   "metadata": {},
   "outputs": [],
   "source": [
    "\n",
    "from nltk.stem import WordNetLemmatizer as wnl"
   ]
  },
  {
   "cell_type": "code",
   "execution_count": 15,
   "id": "60c1f6a1-505a-4c77-b00e-be85c65c8744",
   "metadata": {},
   "outputs": [],
   "source": [
    "lemmatizer = wnl()"
   ]
  },
  {
   "cell_type": "code",
   "execution_count": 24,
   "id": "a6ed81a9-1678-4bfd-a010-633dc6f17b66",
   "metadata": {},
   "outputs": [
    {
     "data": {
      "text/plain": [
       "'go'"
      ]
     },
     "execution_count": 24,
     "metadata": {},
     "output_type": "execute_result"
    }
   ],
   "source": [
    "lemmatizer.lemmatize(\"going\",pos='v')"
   ]
  },
  {
   "cell_type": "raw",
   "id": "478589b3-9fda-47e6-90a1-b1d674ddc572",
   "metadata": {},
   "source": [
    "for word in words:\n",
    "    print(lemmatizer.lemmatize(word))"
   ]
  },
  {
   "cell_type": "code",
   "execution_count": 27,
   "id": "7c7ee47d-aa27-42f5-834d-f5f3aefcf189",
   "metadata": {},
   "outputs": [
    {
     "name": "stdout",
     "output_type": "stream",
     "text": [
      "eat\n",
      "eat\n",
      "eat\n",
      "write\n",
      "write\n",
      "run\n",
      "run\n",
      "run\n",
      "come\n",
      "come\n",
      "history\n"
     ]
    }
   ],
   "source": [
    "for word in words:\n",
    "    print(lemmatizer.lemmatize(word,pos='v'))"
   ]
  },
  {
   "cell_type": "code",
   "execution_count": null,
   "id": "2cb3b5cd-2e0d-46fb-9eaf-611f08334248",
   "metadata": {},
   "outputs": [],
   "source": []
  }
 ],
 "metadata": {
  "kernelspec": {
   "display_name": "Python 3 (ipykernel)",
   "language": "python",
   "name": "python3"
  },
  "language_info": {
   "codemirror_mode": {
    "name": "ipython",
    "version": 3
   },
   "file_extension": ".py",
   "mimetype": "text/x-python",
   "name": "python",
   "nbconvert_exporter": "python",
   "pygments_lexer": "ipython3",
   "version": "3.13.3"
  }
 },
 "nbformat": 4,
 "nbformat_minor": 5
}
