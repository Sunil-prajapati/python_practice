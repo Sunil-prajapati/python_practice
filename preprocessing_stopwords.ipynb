{
 "cells": [
  {
   "cell_type": "code",
   "execution_count": 8,
   "id": "3e048d58-deff-4c44-b1bd-a68ae5772e88",
   "metadata": {},
   "outputs": [],
   "source": [
    "paragraph = \"\"\" Dreams transform into thoughts, and thoughts result in action. Great achievements begin with a single dream. I always tell young minds to dream big, to aim high, and to work hard towards their passion with confidence and determination. When each one of us ignites our inner potential, we have the power to shape society and the nation. Success is not a one-time event but a journey that involves dedication, continuous effort, learning from failures, and a positive attitude.\n",
    "\n",
    "My vision for India is a nation that stands proud, united, and strong, driven by honest citizens and empowered youth. Let us not wait for others to bring change; let us be the change. Each of you has unique strengths—use them to serve the country and humanity. Value integrity, respect every individual, and uphold harmony among all religions and communities. Let knowledge, courage, and compassion be your guiding lights.\n",
    "\n",
    "Remember: ‘If you want to shine like a sun, first burn like a sun.’ The future belongs to those who believe in the beauty of their dreams and work tirelessly to make them come true. Let us promise to make our nation better and brighter every single day.\"\"\""
   ]
  },
  {
   "cell_type": "code",
   "execution_count": 9,
   "id": "f20c8e2a-3e0c-4afe-9fb7-5f0808770365",
   "metadata": {},
   "outputs": [],
   "source": [
    "from nltk.stem import PorterStemmer"
   ]
  },
  {
   "cell_type": "code",
   "execution_count": 10,
   "id": "0bb66124-a4a8-4222-a1a5-ccc067f6f9ee",
   "metadata": {},
   "outputs": [],
   "source": [
    "from nltk.corpus import stopwords"
   ]
  },
  {
   "cell_type": "code",
   "execution_count": 6,
   "id": "040e4012-85fd-4c83-8367-19f765014a83",
   "metadata": {},
   "outputs": [
    {
     "name": "stderr",
     "output_type": "stream",
     "text": [
      "[nltk_data] Downloading package stopwords to\n",
      "[nltk_data]     C:\\Users\\praja\\AppData\\Roaming\\nltk_data...\n",
      "[nltk_data]   Package stopwords is already up-to-date!\n"
     ]
    },
    {
     "data": {
      "text/plain": [
       "True"
      ]
     },
     "execution_count": 6,
     "metadata": {},
     "output_type": "execute_result"
    }
   ],
   "source": [
    "import nltk \n",
    "nltk.download('stopwords')"
   ]
  },
  {
   "cell_type": "code",
   "execution_count": 11,
   "id": "1de136fd-0236-40a4-9627-454a384b2cdf",
   "metadata": {},
   "outputs": [
    {
     "data": {
      "text/plain": [
       "['a',\n",
       " 'about',\n",
       " 'above',\n",
       " 'after',\n",
       " 'again',\n",
       " 'against',\n",
       " 'ain',\n",
       " 'all',\n",
       " 'am',\n",
       " 'an',\n",
       " 'and',\n",
       " 'any',\n",
       " 'are',\n",
       " 'aren',\n",
       " \"aren't\",\n",
       " 'as',\n",
       " 'at',\n",
       " 'be',\n",
       " 'because',\n",
       " 'been',\n",
       " 'before',\n",
       " 'being',\n",
       " 'below',\n",
       " 'between',\n",
       " 'both',\n",
       " 'but',\n",
       " 'by',\n",
       " 'can',\n",
       " 'couldn',\n",
       " \"couldn't\",\n",
       " 'd',\n",
       " 'did',\n",
       " 'didn',\n",
       " \"didn't\",\n",
       " 'do',\n",
       " 'does',\n",
       " 'doesn',\n",
       " \"doesn't\",\n",
       " 'doing',\n",
       " 'don',\n",
       " \"don't\",\n",
       " 'down',\n",
       " 'during',\n",
       " 'each',\n",
       " 'few',\n",
       " 'for',\n",
       " 'from',\n",
       " 'further',\n",
       " 'had',\n",
       " 'hadn',\n",
       " \"hadn't\",\n",
       " 'has',\n",
       " 'hasn',\n",
       " \"hasn't\",\n",
       " 'have',\n",
       " 'haven',\n",
       " \"haven't\",\n",
       " 'having',\n",
       " 'he',\n",
       " \"he'd\",\n",
       " \"he'll\",\n",
       " 'her',\n",
       " 'here',\n",
       " 'hers',\n",
       " 'herself',\n",
       " \"he's\",\n",
       " 'him',\n",
       " 'himself',\n",
       " 'his',\n",
       " 'how',\n",
       " 'i',\n",
       " \"i'd\",\n",
       " 'if',\n",
       " \"i'll\",\n",
       " \"i'm\",\n",
       " 'in',\n",
       " 'into',\n",
       " 'is',\n",
       " 'isn',\n",
       " \"isn't\",\n",
       " 'it',\n",
       " \"it'd\",\n",
       " \"it'll\",\n",
       " \"it's\",\n",
       " 'its',\n",
       " 'itself',\n",
       " \"i've\",\n",
       " 'just',\n",
       " 'll',\n",
       " 'm',\n",
       " 'ma',\n",
       " 'me',\n",
       " 'mightn',\n",
       " \"mightn't\",\n",
       " 'more',\n",
       " 'most',\n",
       " 'mustn',\n",
       " \"mustn't\",\n",
       " 'my',\n",
       " 'myself',\n",
       " 'needn',\n",
       " \"needn't\",\n",
       " 'no',\n",
       " 'nor',\n",
       " 'not',\n",
       " 'now',\n",
       " 'o',\n",
       " 'of',\n",
       " 'off',\n",
       " 'on',\n",
       " 'once',\n",
       " 'only',\n",
       " 'or',\n",
       " 'other',\n",
       " 'our',\n",
       " 'ours',\n",
       " 'ourselves',\n",
       " 'out',\n",
       " 'over',\n",
       " 'own',\n",
       " 're',\n",
       " 's',\n",
       " 'same',\n",
       " 'shan',\n",
       " \"shan't\",\n",
       " 'she',\n",
       " \"she'd\",\n",
       " \"she'll\",\n",
       " \"she's\",\n",
       " 'should',\n",
       " 'shouldn',\n",
       " \"shouldn't\",\n",
       " \"should've\",\n",
       " 'so',\n",
       " 'some',\n",
       " 'such',\n",
       " 't',\n",
       " 'than',\n",
       " 'that',\n",
       " \"that'll\",\n",
       " 'the',\n",
       " 'their',\n",
       " 'theirs',\n",
       " 'them',\n",
       " 'themselves',\n",
       " 'then',\n",
       " 'there',\n",
       " 'these',\n",
       " 'they',\n",
       " \"they'd\",\n",
       " \"they'll\",\n",
       " \"they're\",\n",
       " \"they've\",\n",
       " 'this',\n",
       " 'those',\n",
       " 'through',\n",
       " 'to',\n",
       " 'too',\n",
       " 'under',\n",
       " 'until',\n",
       " 'up',\n",
       " 've',\n",
       " 'very',\n",
       " 'was',\n",
       " 'wasn',\n",
       " \"wasn't\",\n",
       " 'we',\n",
       " \"we'd\",\n",
       " \"we'll\",\n",
       " \"we're\",\n",
       " 'were',\n",
       " 'weren',\n",
       " \"weren't\",\n",
       " \"we've\",\n",
       " 'what',\n",
       " 'when',\n",
       " 'where',\n",
       " 'which',\n",
       " 'while',\n",
       " 'who',\n",
       " 'whom',\n",
       " 'why',\n",
       " 'will',\n",
       " 'with',\n",
       " 'won',\n",
       " \"won't\",\n",
       " 'wouldn',\n",
       " \"wouldn't\",\n",
       " 'y',\n",
       " 'you',\n",
       " \"you'd\",\n",
       " \"you'll\",\n",
       " 'your',\n",
       " \"you're\",\n",
       " 'yours',\n",
       " 'yourself',\n",
       " 'yourselves',\n",
       " \"you've\"]"
      ]
     },
     "execution_count": 11,
     "metadata": {},
     "output_type": "execute_result"
    }
   ],
   "source": [
    "stopwords.words('english')"
   ]
  },
  {
   "cell_type": "code",
   "execution_count": 1,
   "id": "2a0c870d-deb8-443f-bb1d-ad86e5fae7fd",
   "metadata": {},
   "outputs": [],
   "source": [
    "from nltk.stem import PorterStemmer"
   ]
  },
  {
   "cell_type": "code",
   "execution_count": 2,
   "id": "f3f1d365-862e-45ed-b55e-8f16541c35c8",
   "metadata": {},
   "outputs": [],
   "source": [
    "stemmer = PorterStemmer()"
   ]
  },
  {
   "cell_type": "code",
   "execution_count": 12,
   "id": "7ae90434-9ade-4abf-8bcc-c8518b763919",
   "metadata": {},
   "outputs": [],
   "source": [
    "sentences = nltk.sent_tokenize(paragraph)"
   ]
  },
  {
   "cell_type": "code",
   "execution_count": 13,
   "id": "e5b108cc-8e31-40be-ac59-97e39e946af4",
   "metadata": {},
   "outputs": [
    {
     "data": {
      "text/plain": [
       "list"
      ]
     },
     "execution_count": 13,
     "metadata": {},
     "output_type": "execute_result"
    }
   ],
   "source": [
    "type(sentences)"
   ]
  },
  {
   "cell_type": "code",
   "execution_count": 14,
   "id": "ee0f7469-b275-404f-95f3-61b5fd6b3c44",
   "metadata": {},
   "outputs": [],
   "source": [
    "###Apply Stopwords and Filter And then Apply Stemming "
   ]
  },
  {
   "cell_type": "code",
   "execution_count": 15,
   "id": "98099f7b-7bc6-48f5-be21-13cd9c38a94d",
   "metadata": {},
   "outputs": [],
   "source": [
    "for i in range(len(sentences)):\n",
    "    words = nltk.word_tokenize(sentences[i])\n",
    "    words = [stemmer.stem(word) for word in words if word not in set(stopwords.words('english'))]\n",
    "    sentences[i] =' '.join(words) # convert all the list of  words into sentences"
   ]
  },
  {
   "cell_type": "code",
   "execution_count": 16,
   "id": "710cb775-b635-42f7-a9ca-ae33f6e4dbfe",
   "metadata": {},
   "outputs": [
    {
     "data": {
      "text/plain": [
       "['dream transform thought , thought result action .',\n",
       " 'great achiev begin singl dream .',\n",
       " 'i alway tell young mind dream big , aim high , work hard toward passion confid determin .',\n",
       " 'when one us ignit inner potenti , power shape societi nation .',\n",
       " 'success one-tim event journey involv dedic , continu effort , learn failur , posit attitud .',\n",
       " 'my vision india nation stand proud , unit , strong , driven honest citizen empow youth .',\n",
       " 'let us wait other bring chang ; let us chang .',\n",
       " 'each uniqu strengths—us serv countri human .',\n",
       " 'valu integr , respect everi individu , uphold harmoni among religion commun .',\n",
       " 'let knowledg , courag , compass guid light .',\n",
       " 'rememb : ‘ if want shine like sun , first burn like sun. ’ the futur belong believ beauti dream work tirelessli make come true .',\n",
       " 'let us promis make nation better brighter everi singl day .']"
      ]
     },
     "execution_count": 16,
     "metadata": {},
     "output_type": "execute_result"
    }
   ],
   "source": [
    "sentences"
   ]
  },
  {
   "cell_type": "code",
   "execution_count": 17,
   "id": "a8bb799a-89a1-483b-9468-5d7ee995bd3c",
   "metadata": {},
   "outputs": [],
   "source": [
    "from nltk.stem import SnowballStemmer"
   ]
  },
  {
   "cell_type": "code",
   "execution_count": 18,
   "id": "6ca359a2-c7c4-4337-af2d-6d6f41a64ac5",
   "metadata": {},
   "outputs": [],
   "source": [
    "snowballStemmer = SnowballStemmer('english')"
   ]
  },
  {
   "cell_type": "markdown",
   "id": "13eb4bd6-8df9-4219-bfbd-62ec033380cf",
   "metadata": {},
   "source": [
    "### Apply Snoball Stemmer "
   ]
  },
  {
   "cell_type": "code",
   "execution_count": 19,
   "id": "874b2257-ea2e-496a-a7db-878e8310cb02",
   "metadata": {},
   "outputs": [],
   "source": [
    "for i in range(len(sentences)):\n",
    "    words = nltk.word_tokenize(sentences[i])\n",
    "    words = [snowballStemmer.stem(word) for word in words if word not in set(stopwords.words('english'))]\n",
    "    sentences[i] =' '.join(words) # convert all the list of  words into sentences"
   ]
  },
  {
   "cell_type": "code",
   "execution_count": 20,
   "id": "eb5707b6-4beb-4a56-a1f5-96291201e8a3",
   "metadata": {},
   "outputs": [
    {
     "data": {
      "text/plain": [
       "['dream transform thought , thought result action .',\n",
       " 'great achiev begin singl dream .',\n",
       " 'alway tell young mind dream big , aim high , work hard toward passion confid determin .',\n",
       " 'one us ignit inner potenti , power shape societi nation .',\n",
       " 'success one-tim event journey involv dedic , continu effort , learn failur , posit attitud .',\n",
       " 'vision india nation stand proud , unit , strong , driven honest citizen empow youth .',\n",
       " 'let us wait bring chang ; let us chang .',\n",
       " 'uniqu strengths—us serv countri human .',\n",
       " 'valu integr , respect everi individu , uphold harmoni among religion commun .',\n",
       " 'let knowledg , courag , compass guid light .',\n",
       " 'rememb : ‘ want shine like sun , first burn like sun . ’ futur belong believ beauti dream work tireless make come true .',\n",
       " 'let us promi make nation better brighter everi singl day .']"
      ]
     },
     "execution_count": 20,
     "metadata": {},
     "output_type": "execute_result"
    }
   ],
   "source": [
    "sentences"
   ]
  },
  {
   "cell_type": "markdown",
   "id": "f5666e51-152e-493f-a17c-575e22cafe86",
   "metadata": {},
   "source": [
    "### with Lemmatization "
   ]
  },
  {
   "cell_type": "code",
   "execution_count": 28,
   "id": "4328f7af-9f7e-43e6-b145-40b7b77eff9d",
   "metadata": {},
   "outputs": [],
   "source": [
    "from nltk.stem import WordNetLemmatizer"
   ]
  },
  {
   "cell_type": "code",
   "execution_count": 29,
   "id": "5050cbde-8fdb-4b85-adee-6069ef01313f",
   "metadata": {},
   "outputs": [],
   "source": [
    "lemmatizer = WordNetLemmatizer()"
   ]
  },
  {
   "cell_type": "code",
   "execution_count": 39,
   "id": "4b7e52d9-845d-49f7-a692-3527c374d80d",
   "metadata": {},
   "outputs": [],
   "source": [
    "for i in range(len(sentences)):\n",
    "    words = nltk.word_tokenize(sentences[i])\n",
    "    words = [lemmatizer.lemmatize(word.lower(),pos='v') for word in words if word not in set(stopwords.words('english'))]\n",
    "    sentences[i] =' '.join(words) # convert all the list of  words into sentences"
   ]
  },
  {
   "cell_type": "code",
   "execution_count": 40,
   "id": "b16b6a9d-90e0-44c0-854f-a5ff2062d592",
   "metadata": {},
   "outputs": [
    {
     "data": {
      "text/plain": [
       "['dream transform think , think result action .',\n",
       " 'great achiev begin singl dream .',\n",
       " 'alway tell young mind dream big , aim high , work hard toward passion confid determin .',\n",
       " 'one u ignit inner potenti , power shape societi nation .',\n",
       " 'success one-tim event journey involv dedic , continu effort , learn failur , posit attitud .',\n",
       " 'vision india nation stand proud , unit , strong , drive honest citizen empow youth .',\n",
       " 'let u wait bring chang ; let u chang .',\n",
       " 'uniqu strengths—us serv countri human .',\n",
       " 'valu integr , respect everi individu , uphold harmoni among religion commun .',\n",
       " 'let knowledg , courag , compass guid light .',\n",
       " 'rememb : ‘ want shine like sun , first burn like sun . ’ futur belong believ beauti dream work tireless make come true .',\n",
       " 'let u promi make nation better brighter everi singl day .']"
      ]
     },
     "execution_count": 40,
     "metadata": {},
     "output_type": "execute_result"
    }
   ],
   "source": [
    "sentences"
   ]
  },
  {
   "cell_type": "code",
   "execution_count": null,
   "id": "d84265cc-7af1-4e80-88f6-d4c9b10a6605",
   "metadata": {},
   "outputs": [],
   "source": []
  }
 ],
 "metadata": {
  "kernelspec": {
   "display_name": "Python 3 (ipykernel)",
   "language": "python",
   "name": "python3"
  },
  "language_info": {
   "codemirror_mode": {
    "name": "ipython",
    "version": 3
   },
   "file_extension": ".py",
   "mimetype": "text/x-python",
   "name": "python",
   "nbconvert_exporter": "python",
   "pygments_lexer": "ipython3",
   "version": "3.13.3"
  }
 },
 "nbformat": 4,
 "nbformat_minor": 5
}
